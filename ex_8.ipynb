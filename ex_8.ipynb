{
 "cells": [
  {
   "cell_type": "code",
   "execution_count": 125,
   "metadata": {},
   "outputs": [],
   "source": [
    "import numpy as np\n",
    "import matplotlib.pyplot as plt\n",
    "import pandas as pd\n",
    "import scipy as sp"
   ]
  },
  {
   "cell_type": "code",
   "execution_count": 126,
   "metadata": {},
   "outputs": [
    {
     "name": "stdout",
     "output_type": "stream",
     "text": [
      "Metric matrix:\n",
      "[[ 1  0  0  0]\n",
      " [ 0 -1  0  0]\n",
      " [ 0  0 -1  0]\n",
      " [ 0  0  0 -1]]\n",
      " \n",
      "Identity matrix: \n",
      "[[1 0 0 0]\n",
      " [0 1 0 0]\n",
      " [0 0 1 0]\n",
      " [0 0 0 1]]\n"
     ]
    }
   ],
   "source": [
    "metric = np.array([[1, 0, 0, 0], [0, -1, 0, 0], [0, 0, -1, 0], [0, 0, 0, -1]])\n",
    "identity = np.array([[1, 0, 0, 0], [0, 1, 0, 0], [0, 0, 1, 0], [0, 0, 0, 1]])\n",
    "\n",
    "print(\"Metric matrix:\")\n",
    "print(metric)\n",
    "print(\" \")\n",
    "print(\"Identity matrix: \")\n",
    "print(identity)"
   ]
  },
  {
   "cell_type": "code",
   "execution_count": 170,
   "metadata": {},
   "outputs": [],
   "source": [
    "#Generators of vectorial representation\n",
    "i = 1j\n",
    "\n",
    "#Create 4-tensor\n",
    "J = np.zeros(shape = (4, 4, 4, 4))\n",
    "\n",
    "#Initialize the generators\n",
    "for mu in range(4):\n",
    "    for nu in range(4):\n",
    "        for alpha in range(4):\n",
    "            for beta in range(4):\n",
    "                J[mu, nu, alpha, beta] = (metric[mu, alpha] * identity[nu, beta] - metric[nu, alpha] * identity[mu, beta])\n",
    "            "
   ]
  },
  {
   "cell_type": "code",
   "execution_count": 171,
   "metadata": {},
   "outputs": [],
   "source": [
    "from itertools import permutations\n",
    "\n",
    "#Levi-civita symbol initialization\n",
    "epsilon = np.zeros(shape = (3, 3, 3))\n",
    "\n",
    "non_zero_indices = [0, 1, 2]\n",
    "permutation_non_zero = permutations(non_zero_indices)\n",
    "permutation_non_zero = list(permutation_non_zero)\n",
    "\n",
    "#Ordering the permutation list in even (+1) and odd (-1)\n",
    "permutation_non_zero[1], permutation_non_zero[3] = permutation_non_zero[3], permutation_non_zero[1]\n",
    "permutation_non_zero[2], permutation_non_zero[4] = permutation_non_zero[4], permutation_non_zero[2]\n",
    "\n",
    "#Initialization of non zero components:\n",
    "for p in range(len(permutation_non_zero)): \n",
    "    if(p < 3):\n",
    "        epsilon[permutation_non_zero[p]] = 1\n",
    "    else:\n",
    "        epsilon[permutation_non_zero[p]] = -1\n",
    "        \n",
    "#The other components are already 0 by def"
   ]
  },
  {
   "cell_type": "code",
   "execution_count": 172,
   "metadata": {},
   "outputs": [],
   "source": [
    "#Angular Momentum\n",
    "L = np.zeros(shape = (3, 4, 4))\n",
    "\n",
    "for j in range(3):\n",
    "    for alpha in range(4):\n",
    "        for beta in range(4):\n",
    "            \n",
    "            for k in range(3):\n",
    "                for t in range(3):\n",
    "                    L[j, alpha, beta] += 0.5*epsilon[j, k, t]*J[k+1, t+1, alpha, beta]\n",
    "                    \n",
    "                    \n",
    "#Boosts\n",
    "K = np.zeros(shape = (3, 4, 4))\n",
    "for j in range(3):\n",
    "    for alpha in range(4):\n",
    "        for beta in range(4):\n",
    "            \n",
    "            K[j, alpha, beta] = J[0, j+1, alpha, beta] \n",
    "            \n",
    "#Make entries imaginary numbers\n",
    "L = i*L\n",
    "K = i*K\n",
    "                    "
   ]
  },
  {
   "cell_type": "code",
   "execution_count": 180,
   "metadata": {},
   "outputs": [
    {
     "name": "stdout",
     "output_type": "stream",
     "text": [
      "J+ Matrices:\n",
      "[[[ 0. +0.j  -0.5+0.j   0. +0.j   0. +0.j ]\n",
      "  [-0.5+0.j   0. +0.j   0. +0.j   0. +0.j ]\n",
      "  [ 0. +0.j   0. +0.j   0. +0.j   0. -0.5j]\n",
      "  [ 0. +0.j   0. +0.j   0. +0.5j  0. +0.j ]]\n",
      "\n",
      " [[ 0. +0.j   0. +0.j  -0.5+0.j   0. +0.j ]\n",
      "  [ 0. +0.j   0. +0.j   0. +0.j   0. +0.5j]\n",
      "  [-0.5+0.j   0. +0.j   0. +0.j   0. +0.j ]\n",
      "  [ 0. +0.j   0. -0.5j  0. +0.j   0. +0.j ]]\n",
      "\n",
      " [[ 0. +0.j   0. +0.j   0. +0.j  -0.5+0.j ]\n",
      "  [ 0. +0.j   0. +0.j   0. -0.5j  0. +0.j ]\n",
      "  [ 0. +0.j   0. +0.5j  0. +0.j   0. +0.j ]\n",
      "  [-0.5+0.j   0. +0.j   0. +0.j   0. +0.j ]]]\n"
     ]
    }
   ],
   "source": [
    "#Define ladder operators\n",
    "J_p = complex(0.5) * (L + i*K)\n",
    "J_m = complex(0.5) * (L - i*K)\n",
    "\n",
    "print(\"J+ Matrices:\")\n",
    "print(J_p)"
   ]
  },
  {
   "cell_type": "code",
   "execution_count": 179,
   "metadata": {},
   "outputs": [
    {
     "name": "stdout",
     "output_type": "stream",
     "text": [
      " \n",
      "J- Matrices:\n",
      "[[[0. +0.j  0.5+0.j  0. +0.j  0. +0.j ]\n",
      "  [0.5+0.j  0. +0.j  0. +0.j  0. +0.j ]\n",
      "  [0. +0.j  0. +0.j  0. +0.j  0. -0.5j]\n",
      "  [0. +0.j  0. +0.j  0. +0.5j 0. +0.j ]]\n",
      "\n",
      " [[0. +0.j  0. +0.j  0.5+0.j  0. +0.j ]\n",
      "  [0. +0.j  0. +0.j  0. +0.j  0. +0.5j]\n",
      "  [0.5+0.j  0. +0.j  0. +0.j  0. +0.j ]\n",
      "  [0. +0.j  0. -0.5j 0. +0.j  0. +0.j ]]\n",
      "\n",
      " [[0. +0.j  0. +0.j  0. +0.j  0.5+0.j ]\n",
      "  [0. +0.j  0. +0.j  0. -0.5j 0. +0.j ]\n",
      "  [0. +0.j  0. +0.5j 0. +0.j  0. +0.j ]\n",
      "  [0.5+0.j  0. +0.j  0. +0.j  0. +0.j ]]]\n"
     ]
    }
   ],
   "source": [
    "print(\" \")\n",
    "print(\"J- Matrices:\")\n",
    "print(J_m)"
   ]
  },
  {
   "cell_type": "code",
   "execution_count": 196,
   "metadata": {},
   "outputs": [
    {
     "name": "stdout",
     "output_type": "stream",
     "text": [
      "Casimir Jp: \n",
      "[[0.75+0.j 0.  +0.j 0.  +0.j 0.  +0.j]\n",
      " [0.  +0.j 0.75+0.j 0.  +0.j 0.  +0.j]\n",
      " [0.  +0.j 0.  +0.j 0.75+0.j 0.  +0.j]\n",
      " [0.  +0.j 0.  +0.j 0.  +0.j 0.75+0.j]]\n",
      " \n",
      "Casimir Jm: \n",
      "[[0.75+0.j 0.  +0.j 0.  +0.j 0.  +0.j]\n",
      " [0.  +0.j 0.75+0.j 0.  +0.j 0.  +0.j]\n",
      " [0.  +0.j 0.  +0.j 0.75+0.j 0.  +0.j]\n",
      " [0.  +0.j 0.  +0.j 0.  +0.j 0.75+0.j]]\n"
     ]
    }
   ],
   "source": [
    "#Casimir Operators\n",
    "J_p_squared = np.zeros(shape = (4, 4))\n",
    "\n",
    "for m in J_p:\n",
    "    J_p_squared = np.dot(m, m) + J_p_squared\n",
    "    \n",
    "J_m_squared = np.zeros(shape = (4, 4))\n",
    "\n",
    "for m in J_m:\n",
    "    J_m_squared = np.dot(m, m) + J_m_squared\n",
    "    \n",
    "print(\"Casimir Jp: \")\n",
    "print(J_p_squared)\n",
    "\n",
    "print(\" \")\n",
    "print(\"Casimir Jm: \")\n",
    "print(J_m_squared)\n",
    "\n"
   ]
  },
  {
   "cell_type": "code",
   "execution_count": null,
   "metadata": {},
   "outputs": [],
   "source": []
  }
 ],
 "metadata": {
  "kernelspec": {
   "display_name": "Python 3",
   "language": "python",
   "name": "python3"
  },
  "language_info": {
   "codemirror_mode": {
    "name": "ipython",
    "version": 3
   },
   "file_extension": ".py",
   "mimetype": "text/x-python",
   "name": "python",
   "nbconvert_exporter": "python",
   "pygments_lexer": "ipython3",
   "version": "3.9.7"
  }
 },
 "nbformat": 4,
 "nbformat_minor": 2
}
